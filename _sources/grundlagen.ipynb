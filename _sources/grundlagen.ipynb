{
 "cells": [
  {
   "cell_type": "markdown",
   "id": "eb030386",
   "metadata": {},
   "source": [
    "---\n",
    "# Einführung\n",
    "\n",
    "Ziel dieses Scripts ist, die Grundlagen der digitalen Signalverarbeitung (DSV) mit der dazugehörigen Beschreibung durch die Systemtheorie zu erläutern. Um den Zugang durch eigenes Ausprobieren zu erleichtern, sind für alle Abbildungen auch die produzierenden python codes eingebunden. Zusätzlich liegen oft interaktive Programme als Alternativen vor.\n",
    "\n",
    "\n",
    "```{bibliography}\n",
    ":filter: docname in docnames\n",
    "```"
   ]
  }
 ],
 "metadata": {
  "jupytext": {
   "text_representation": {
    "extension": ".md",
    "format_name": "myst",
    "format_version": 0.13,
    "jupytext_version": "1.11.5"
   }
  },
  "kernelspec": {
   "display_name": "Python 3",
   "language": "python",
   "name": "python3"
  },
  "language_info": {
   "codemirror_mode": {
    "name": "ipython",
    "version": 3
   },
   "file_extension": ".py",
   "mimetype": "text/x-python",
   "name": "python",
   "nbconvert_exporter": "python",
   "pygments_lexer": "ipython3",
   "version": "3.9.5"
  },
  "source_map": [
   12
  ]
 },
 "nbformat": 4,
 "nbformat_minor": 5
}